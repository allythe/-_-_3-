{
 "cells": [
  {
   "cell_type": "code",
   "execution_count": 11,
   "id": "5cf8d971-08ea-444d-9184-fc780badefcd",
   "metadata": {},
   "outputs": [],
   "source": [
    "import numpy as np"
   ]
  },
  {
   "cell_type": "markdown",
   "id": "db09ada7-38a3-4237-a6b3-b8726c64ed46",
   "metadata": {},
   "source": [
    "### Алгоритм Флойда - Уоршелла"
   ]
  },
  {
   "cell_type": "markdown",
   "id": "ce0816d1-c7c9-458c-8687-e0233cab6216",
   "metadata": {},
   "source": [
    "Условия на граф: веса - любые, нет цикла отрицательного веса \n",
    "\n",
    "находит длины кратчайших путей между всеми вершинами в графе\n",
    "\n",
    "время работы - O(n^3), \n",
    "расход памяти - O(n^2)"
   ]
  },
  {
   "cell_type": "code",
   "execution_count": 93,
   "id": "af4eedc8-8e9d-42ba-992b-5a50cebf0bfc",
   "metadata": {},
   "outputs": [],
   "source": [
    "INF = 10e3\n",
    "\n",
    "def floyd(G):\n",
    "    dist = G\n",
    "\n",
    "    for r in range(len(G)):\n",
    "        for p in range(len(G)):\n",
    "            for q in range(len(G)):\n",
    "                dist[p][q] = min(dist[p][q], dist[p][r] + dist[r][q])\n",
    "    \n",
    "    graph_printer(dist)\n",
    "    print(f' minumim distance from 0 vert to {len(dist)} vert is {dist[0][-1]}')\n",
    "    return dist\n",
    "\n",
    "def graph_printer(dist):\n",
    "    for p in range(len(G)):\n",
    "        for q in range(len(G)):\n",
    "            if(dist[p][q] == INF):\n",
    "                print(\"INF\", end=\" \")\n",
    "            else:\n",
    "                print(dist[p][q], end=\"  \")\n",
    "        print(\" \")"
   ]
  },
  {
   "cell_type": "code",
   "execution_count": 94,
   "id": "9edfa150-5786-4cb8-ab71-8569dc8def74",
   "metadata": {},
   "outputs": [
    {
     "name": "stdout",
     "output_type": "stream",
     "text": [
      "0  5  15  10   \n",
      "20  0  10  5   \n",
      "30  35  0  15   \n",
      "15  20  5  0   \n",
      " minumim distance from 0 vert to 4 vert is 10\n"
     ]
    }
   ],
   "source": [
    "G = [[0, 5, INF, INF],\n",
    "    [50, 0, 15, 5],\n",
    "    [30, INF, 0, 15],\n",
    "    [15, INF, 5, 0]]\n",
    "\n",
    "distance = floyd(G)"
   ]
  },
  {
   "cell_type": "markdown",
   "id": "6400525b-1580-4fd3-8692-d2cf9ccaea0d",
   "metadata": {},
   "source": [
    "#### что случится, если сделать цикл отрицательного веса?"
   ]
  },
  {
   "cell_type": "code",
   "execution_count": 89,
   "id": "1577ec9d-f1cc-4be1-88ea-41e884cc82a6",
   "metadata": {},
   "outputs": [
    {
     "name": "stdout",
     "output_type": "stream",
     "text": [
      "-2  -3   \n",
      "-3  -4   \n"
     ]
    }
   ],
   "source": [
    "G = [[0, -1],\n",
    "    [-1, 0]]\n",
    "\n",
    "distance = floyd(G)"
   ]
  },
  {
   "cell_type": "markdown",
   "id": "ab2552c0-f7f5-4a6a-a3c6-907bb0f87c1e",
   "metadata": {},
   "source": [
    "#### на диагонали появляются отрицательные значения (а были 0 изначально)\n",
    "\n",
    "т е с помощью алгоритма Флойда Уоршелла можно обнаружить цикл отрицательного веса!"
   ]
  },
  {
   "cell_type": "code",
   "execution_count": 98,
   "id": "ec5a1092-261e-4d80-8223-13a7145a8bd5",
   "metadata": {},
   "outputs": [],
   "source": [
    "def floyd_neg(G):\n",
    "    dist = G\n",
    "\n",
    "    for r in range(len(G)):\n",
    "        for p in range(len(G)):\n",
    "            for q in range(len(G)):\n",
    "                dist[p][q] = min(dist[p][q], dist[p][r] + dist[r][q])\n",
    "    \n",
    "    graph_printer(dist)\n",
    "    \n",
    "    if any(val < 0 for val in [dist[i][i] for i in range(len(dist))]):\n",
    "        print(' oh,no! есть цикл отрицательного веса ')\n",
    "        return dist\n",
    "        \n",
    "    print(f' minumim distance from 0 vert to {len(dist)} vert is {dist[0][-1]}')\n",
    "\n",
    "    return dist"
   ]
  },
  {
   "cell_type": "code",
   "execution_count": 99,
   "id": "c2f23533-3e63-42f4-b7cf-02251630fde8",
   "metadata": {},
   "outputs": [
    {
     "name": "stdout",
     "output_type": "stream",
     "text": [
      "-2  -3   \n",
      "-3  -4   \n",
      " oh,no! есть цикл отрицательного веса \n"
     ]
    }
   ],
   "source": [
    "G = [[0, -1],\n",
    "    [-1, 0]]\n",
    "\n",
    "distance = floyd_neg(G)"
   ]
  },
  {
   "cell_type": "markdown",
   "id": "b0f716e7-d4e8-4d90-b1a0-767abf55585d",
   "metadata": {},
   "source": [
    "#### найдем найдем потенциал каждой вершины с помощью алгоритма Форда-Беллмана\n",
    "\n",
    "phi(u) = distance(s,u)\n",
    "\n",
    "s - фиктивная вершина, соединенная со всеми вершинами графа"
   ]
  },
  {
   "cell_type": "code",
   "execution_count": 4,
   "id": "87f4f7ed-f501-4586-aa7e-6029e7d1ba00",
   "metadata": {},
   "outputs": [
    {
     "name": "stdout",
     "output_type": "stream",
     "text": [
      "Vertex Distance from Source\n",
      "0\t\t0\n",
      "1\t\t-5\n",
      "2\t\t1\n",
      "3\t\t-2\n",
      "4\t\t-2\n",
      "[0, -5, 1, -2, -2]\n",
      "Vertex Distance from Source\n",
      "0\t\t0\n",
      "1\t\t-5\n",
      "2\t\t0\n",
      "3\t\t-2\n",
      "4\t\t-2\n",
      "5\t\t0\n"
     ]
    }
   ],
   "source": [
    "class Graph:\n",
    "\n",
    "    def __init__(self, vertices):\n",
    "        self.V = vertices   \n",
    "        self.graph = [] \n",
    "        \n",
    "    def add_vert(self):\n",
    "        self.V+=1\n",
    "        \n",
    "    def add_edge(self, s, d, w):\n",
    "        self.graph.append([s, d, w])\n",
    "\n",
    "    def print_solution(self, dist):\n",
    "        print(\"Vertex Distance from Source\")\n",
    "        for i in range(self.V):\n",
    "            print(\"{0}\\t\\t{1}\".format(i, dist[i]))\n",
    "\n",
    "    def bellman_ford(self, src):\n",
    "        dist = [float(\"Inf\")] * self.V\n",
    "        dist[src] = 0\n",
    "        for _ in range(self.V - 1):\n",
    "            for s, d, w in self.graph:\n",
    "                if dist[s] != float(\"Inf\") and dist[s] + w < dist[d]:\n",
    "                    dist[d] = dist[s] + w\n",
    "\n",
    "      \n",
    "        for s, d, w in self.graph:\n",
    "            if dist[s] != float(\"Inf\") and dist[s] + w < dist[d]:\n",
    "                print(\"Graph contains negative weight cycle\")\n",
    "                return\n",
    "\n",
    "        self.print_solution(dist)\n",
    "        return dist\n",
    "\n",
    "\n",
    "g = Graph(5)\n",
    "g.add_edge(0, 1, -5)\n",
    "g.add_edge(0, 2, 4)\n",
    "g.add_edge(1, 3, 3)\n",
    "g.add_edge(2, 1, 6)\n",
    "g.add_edge(3, 2, 3)\n",
    "g.add_edge(0, 4, -2)\n",
    "\n",
    "print(g.bellman_ford(0))\n",
    "\n",
    "g.add_vert()\n",
    "for i in range(g.V-1):\n",
    "    g.add_edge(g.V-1, i, 0)\n",
    "\n",
    "dist = g.bellman_ford(g.V-1)"
   ]
  },
  {
   "cell_type": "code",
   "execution_count": 5,
   "id": "df0d6368-81c6-4180-b7a3-c75fda5c4963",
   "metadata": {},
   "outputs": [
    {
     "data": {
      "text/plain": [
       "[[0, 1, 0], [0, 2, 4], [1, 3, 0], [2, 1, 11], [3, 2, 1], [0, 4, 0]]"
      ]
     },
     "execution_count": 5,
     "metadata": {},
     "output_type": "execute_result"
    }
   ],
   "source": [
    "g_new = Graph(g.V-1)\n",
    "\n",
    "for u, v, w in g.graph:\n",
    "    if u!=g.V-1:\n",
    "        g_new.add_edge(u, v, w + dist[u] - dist[v])\n",
    "g_new.graph"
   ]
  },
  {
   "cell_type": "code",
   "execution_count": 39,
   "id": "057b6254-fbcb-42f7-8d29-9b6d889c512c",
   "metadata": {},
   "outputs": [
    {
     "data": {
      "text/plain": [
       "{0: {4: 0}, 1: {3: 0}, 2: {1: 11}, 3: {2: 1}}"
      ]
     },
     "execution_count": 39,
     "metadata": {},
     "output_type": "execute_result"
    }
   ],
   "source": [
    "nodes = [i for i in range(g_new.V)]\n",
    "dist = {}\n",
    "for u, v, w in g_new.graph:\n",
    "    dist[u]=({v:w})\n",
    "    \n",
    "dist"
   ]
  },
  {
   "cell_type": "markdown",
   "id": "8f3eb3b7-ee22-4efa-aac1-9657f42826a5",
   "metadata": {},
   "source": [
    "#### запустим алгоритм Дейкстры"
   ]
  },
  {
   "cell_type": "code",
   "execution_count": 40,
   "id": "e4a516fd-1222-41dd-8e07-7c31f0548142",
   "metadata": {},
   "outputs": [
    {
     "name": "stdout",
     "output_type": "stream",
     "text": [
      "[('C', 2), ('B', 5)]\n",
      "[('B', 5), ('D', 9)]\n",
      "[('D', 8)]\n",
      "[('E', 15)]\n",
      "{'A': 0, 'C': 2, 'B': 5, 'D': 8, 'E': 15}\n"
     ]
    }
   ],
   "source": [
    "def dijkstra(current, nodes, distances):\n",
    "    unvisited = {node: None for node in nodes}\n",
    "    visited = {}\n",
    "    currentDistance = 0\n",
    "    unvisited[current] = currentDistance\n",
    "    \n",
    "    while True:\n",
    "        for neighbour, distance in distances[current].items():\n",
    "            if neighbour not in unvisited: continue\n",
    "            newDistance = currentDistance + distance\n",
    "            if unvisited[neighbour] is None or unvisited[neighbour] > newDistance:\n",
    "                unvisited[neighbour] = newDistance\n",
    "       \n",
    "        visited[current] = currentDistance\n",
    "        del unvisited[current]\n",
    "        if not unvisited: break\n",
    "        candidates = [node for node in unvisited.items() if node[1]]\n",
    "        print(sorted(candidates, key = lambda x: x[1]))\n",
    "        current, currentDistance = sorted(candidates, key = lambda x: x[1])[0]\n",
    "    return visited\n",
    "  \n",
    "nodes = ('A', 'B', 'C', 'D', 'E')\n",
    "distances = {\n",
    "    'A': {'B': 5, 'C': 2},\n",
    "    'B': {'C': 2, 'D': 3},\n",
    "    'C': {'B': 3, 'D': 7},\n",
    "    'D': {'E': 7},\n",
    "    'E': {'D': 9}}\n",
    "current = 'A'\n",
    "  \n",
    "print(dijkstra(current, nodes, distances))"
   ]
  },
  {
   "cell_type": "markdown",
   "id": "3705cd67-2593-4f12-bb43-5d322ef9ed97",
   "metadata": {},
   "source": [
    "## Остовное дерево. Построение с помощью dfs, bfs"
   ]
  },
  {
   "cell_type": "markdown",
   "id": "6b89ca33-47cc-44d8-ab58-09fdcc31c4ef",
   "metadata": {},
   "source": [
    "Note! граф должен быть связным и неориентированным"
   ]
  },
  {
   "cell_type": "code",
   "execution_count": 53,
   "id": "e124fd86-bab2-4624-90f2-c523631f4d39",
   "metadata": {},
   "outputs": [
    {
     "name": "stdout",
     "output_type": "stream",
     "text": [
      "0 [1, 2, 3]\n",
      "1 [2, 3, 4]\n",
      "2 [3, 4]\n",
      "3 [4]\n",
      "4 []\n"
     ]
    },
    {
     "data": {
      "text/plain": [
       "([(0, 1), (0, 2), (0, 3), (1, 4)], 17)"
      ]
     },
     "execution_count": 53,
     "metadata": {},
     "output_type": "execute_result"
    }
   ],
   "source": [
    "class Graph():\n",
    "    def __init__(self, num_vertices):\n",
    "        self.V = num_vertices\n",
    "        self.graph = [[0 for column in range(num_vertices)] for row in range(num_vertices)]\n",
    "        self.visited = [False for _ in range(self.V)]\n",
    "        self.path = []\n",
    "        self.weight = 0\n",
    "        \n",
    "    def dfs(self, u):\n",
    "        self.visited[u] = True\n",
    "        \n",
    "        for v in [i for i in range(len(g.graph[u])) if g.graph[u][i]>0]:\n",
    "            if self.visited[int(v)] is False:\n",
    "                self.path.append((u,v))\n",
    "                self.weight+=self.graph[u][v]\n",
    "                self.dfs(v)\n",
    "                \n",
    "        self.visited = [False for _ in range(self.V)]\n",
    "        return self.path, self.weight\n",
    "    \n",
    "    def bfs(self, u):\n",
    "        self.weight = 0\n",
    "        self.visited[u] = True\n",
    "        queue = [u]\n",
    " \n",
    "        while queue:        \n",
    "            m = queue.pop(0) \n",
    "            print (m, end = \" \") \n",
    "\n",
    "            for v in [i for i in range(len(g.graph[m])) if g.graph[m][i]>0]:\n",
    "                if self.visited[int(v)] is False:\n",
    "                    self.visited[v] = True\n",
    "                    queue.append(v)\n",
    "                    self.path.append((m,v))\n",
    "                    self.weight+=self.graph[m][v]\n",
    "            print(queue)\n",
    "                    \n",
    "        return self.path, self.weight\n",
    "\n",
    "        \n",
    "g = Graph(5)\n",
    "g.graph = [[0, 2, 4, 6, 0],\n",
    "           [2, 0, 3, 8, 5],\n",
    "           [0, 3, 0, 3, 0],\n",
    "           [6, 8, 0, 0, 0],\n",
    "           [0, 5, 7, 9, 0]]\n",
    " \n",
    "g.bfs(0)"
   ]
  },
  {
   "cell_type": "markdown",
   "id": "d37ced3e-7813-4e41-a712-7ce4aa8a907d",
   "metadata": {},
   "source": [
    "## Минимальное остовное дерево"
   ]
  },
  {
   "cell_type": "code",
   "execution_count": 43,
   "id": "5ec1dc69-7dea-4eeb-8824-c0aa96ec9119",
   "metadata": {},
   "outputs": [
    {
     "data": {
      "text/plain": [
       "([(0, 1), (1, 2), (2, 3), (1, 4)], 13)"
      ]
     },
     "execution_count": 43,
     "metadata": {},
     "output_type": "execute_result"
    }
   ],
   "source": [
    "class Graph():\n",
    "    INF = 999999\n",
    "    def __init__(self, num_vertices):\n",
    "        self.V = num_vertices\n",
    "        self.graph = [[0 for column in range(num_vertices)] for row in range(num_vertices)]\n",
    "  \n",
    "    def printMST(self, parent):\n",
    "        print(\"Edge     Weight\")\n",
    "        for i in range(1, self.V):\n",
    "            print(f\"{parent[i]} - {i}  {self.graph[i][parent[i]]}\")\n",
    "  \n",
    "  \n",
    "    def minKey(self, key, mstSet):\n",
    "        min = self.INF\n",
    "        for v in range(self.V):\n",
    "            if key[v] < min and mstSet[v] == False:\n",
    "                min = key[v]\n",
    "                min_index = v\n",
    "        return min_index\n",
    "  \n",
    "    def prims(self):\n",
    "        key = [self.INF for _ in range(self.V)]\n",
    "        parent = [None for _ in range(self.V)]\n",
    "        key[0] = 0\n",
    "        mstSet = [False for _ in range(self.V)]\n",
    "        parent[0] = -1\n",
    " \n",
    "        for _ in range(self.V):\n",
    "            u = self.minKey(key, mstSet)\n",
    "            mstSet[u] = True\n",
    "\n",
    "       \n",
    "            for v in range(self.V):\n",
    "                if self.graph[u][v] > 0 and mstSet[v] == False and key[v] > self.graph[u][v]:\n",
    "                    key[v] = self.graph[u][v]\n",
    "                    parent[v] = u\n",
    " \n",
    "        self.printMST(parent)\n",
    " \n",
    "g = Graph(5)\n",
    "g.graph = [ [0, 2, 0, 6, 0],\n",
    "           [2, 0, 3, 8, 5],\n",
    "           [0, 3, 0, 0, 7],\n",
    "           [6, 8, 0, 0, 9],\n",
    "           [0, 5, 7, 9, 0]]\n",
    " \n",
    "g.prims()"
   ]
  },
  {
   "cell_type": "markdown",
   "id": "c5ddfd70-41cd-49dc-b39c-6fa0fcba2aaa",
   "metadata": {},
   "source": [
    "## Теорема о разрезе"
   ]
  },
  {
   "cell_type": "code",
   "execution_count": 25,
   "id": "c089c4bd-317b-4018-a8b0-209f8d6eec16",
   "metadata": {},
   "outputs": [
    {
     "name": "stdout",
     "output_type": "stream",
     "text": [
      "[0 2 3 4] !!\n"
     ]
    }
   ],
   "source": [
    "for i in list(np.nonzero(g.graph[1])):\n",
    "    print(i,'!!')"
   ]
  },
  {
   "cell_type": "code",
   "execution_count": 32,
   "id": "914a4322-a15c-4ca8-b8c5-8c902c89bf8b",
   "metadata": {},
   "outputs": [
    {
     "data": {
      "text/plain": [
       "[1, 3]"
      ]
     },
     "execution_count": 32,
     "metadata": {},
     "output_type": "execute_result"
    }
   ],
   "source": [
    "[i for i in range(len(g.graph[0])) if g.graph[0][i]>0]"
   ]
  },
  {
   "cell_type": "code",
   "execution_count": null,
   "id": "7ffbd064-71f3-4e71-a8e3-569495804bae",
   "metadata": {},
   "outputs": [],
   "source": []
  }
 ],
 "metadata": {
  "kernelspec": {
   "display_name": "Python 3 (ipykernel)",
   "language": "python",
   "name": "python3"
  },
  "language_info": {
   "codemirror_mode": {
    "name": "ipython",
    "version": 3
   },
   "file_extension": ".py",
   "mimetype": "text/x-python",
   "name": "python",
   "nbconvert_exporter": "python",
   "pygments_lexer": "ipython3",
   "version": "3.9.13"
  }
 },
 "nbformat": 4,
 "nbformat_minor": 5
}
